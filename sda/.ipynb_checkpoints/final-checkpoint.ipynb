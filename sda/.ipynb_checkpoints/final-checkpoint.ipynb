{
 "cells": [
  {
   "cell_type": "code",
   "execution_count": 1,
   "metadata": {},
   "outputs": [
    {
     "data": {
      "text/html": [
       "<div>\n",
       "<style scoped>\n",
       "    .dataframe tbody tr th:only-of-type {\n",
       "        vertical-align: middle;\n",
       "    }\n",
       "\n",
       "    .dataframe tbody tr th {\n",
       "        vertical-align: top;\n",
       "    }\n",
       "\n",
       "    .dataframe thead th {\n",
       "        text-align: right;\n",
       "    }\n",
       "</style>\n",
       "<table border=\"1\" class=\"dataframe\">\n",
       "  <thead>\n",
       "    <tr style=\"text-align: right;\">\n",
       "      <th></th>\n",
       "      <th>id</th>\n",
       "      <th>id_android</th>\n",
       "      <th>speed</th>\n",
       "      <th>time</th>\n",
       "      <th>distance</th>\n",
       "      <th>rating</th>\n",
       "      <th>rating_bus</th>\n",
       "      <th>rating_weather</th>\n",
       "      <th>car_or_bus</th>\n",
       "      <th>linha</th>\n",
       "    </tr>\n",
       "  </thead>\n",
       "  <tbody>\n",
       "    <tr>\n",
       "      <th>0</th>\n",
       "      <td>1</td>\n",
       "      <td>0</td>\n",
       "      <td>19.210586</td>\n",
       "      <td>0.138049</td>\n",
       "      <td>2.652</td>\n",
       "      <td>3</td>\n",
       "      <td>0</td>\n",
       "      <td>0</td>\n",
       "      <td>1</td>\n",
       "      <td>NaN</td>\n",
       "    </tr>\n",
       "    <tr>\n",
       "      <th>1</th>\n",
       "      <td>2</td>\n",
       "      <td>0</td>\n",
       "      <td>30.848229</td>\n",
       "      <td>0.171485</td>\n",
       "      <td>5.290</td>\n",
       "      <td>3</td>\n",
       "      <td>0</td>\n",
       "      <td>0</td>\n",
       "      <td>1</td>\n",
       "      <td>NaN</td>\n",
       "    </tr>\n",
       "    <tr>\n",
       "      <th>2</th>\n",
       "      <td>3</td>\n",
       "      <td>1</td>\n",
       "      <td>13.560101</td>\n",
       "      <td>0.067699</td>\n",
       "      <td>0.918</td>\n",
       "      <td>3</td>\n",
       "      <td>0</td>\n",
       "      <td>0</td>\n",
       "      <td>2</td>\n",
       "      <td>NaN</td>\n",
       "    </tr>\n",
       "    <tr>\n",
       "      <th>3</th>\n",
       "      <td>4</td>\n",
       "      <td>1</td>\n",
       "      <td>19.766679</td>\n",
       "      <td>0.389544</td>\n",
       "      <td>7.700</td>\n",
       "      <td>3</td>\n",
       "      <td>0</td>\n",
       "      <td>0</td>\n",
       "      <td>2</td>\n",
       "      <td>NaN</td>\n",
       "    </tr>\n",
       "    <tr>\n",
       "      <th>4</th>\n",
       "      <td>8</td>\n",
       "      <td>0</td>\n",
       "      <td>25.807401</td>\n",
       "      <td>0.154801</td>\n",
       "      <td>3.995</td>\n",
       "      <td>2</td>\n",
       "      <td>0</td>\n",
       "      <td>0</td>\n",
       "      <td>1</td>\n",
       "      <td>NaN</td>\n",
       "    </tr>\n",
       "  </tbody>\n",
       "</table>\n",
       "</div>"
      ],
      "text/plain": [
       "   id  id_android      speed      time  distance  rating  rating_bus  \\\n",
       "0   1           0  19.210586  0.138049     2.652       3           0   \n",
       "1   2           0  30.848229  0.171485     5.290       3           0   \n",
       "2   3           1  13.560101  0.067699     0.918       3           0   \n",
       "3   4           1  19.766679  0.389544     7.700       3           0   \n",
       "4   8           0  25.807401  0.154801     3.995       2           0   \n",
       "\n",
       "   rating_weather  car_or_bus linha  \n",
       "0               0           1   NaN  \n",
       "1               0           1   NaN  \n",
       "2               0           2   NaN  \n",
       "3               0           2   NaN  \n",
       "4               0           1   NaN  "
      ]
     },
     "execution_count": 1,
     "metadata": {},
     "output_type": "execute_result"
    }
   ],
   "source": [
    "import pandas as pd\n",
    "df = pd.read_csv(r\"C:\\Users\\tunug\\Documents\\projects\\sem5\\sda\\GPS Trajectory\\go_track_tracks.csv\") \n",
    "df.head()\n"
   ]
  },
  {
   "cell_type": "code",
   "execution_count": 2,
   "metadata": {},
   "outputs": [
    {
     "data": {
      "text/html": [
       "<div>\n",
       "<style scoped>\n",
       "    .dataframe tbody tr th:only-of-type {\n",
       "        vertical-align: middle;\n",
       "    }\n",
       "\n",
       "    .dataframe tbody tr th {\n",
       "        vertical-align: top;\n",
       "    }\n",
       "\n",
       "    .dataframe thead th {\n",
       "        text-align: right;\n",
       "    }\n",
       "</style>\n",
       "<table border=\"1\" class=\"dataframe\">\n",
       "  <thead>\n",
       "    <tr style=\"text-align: right;\">\n",
       "      <th></th>\n",
       "      <th>id</th>\n",
       "      <th>id_android</th>\n",
       "      <th>speed</th>\n",
       "      <th>time</th>\n",
       "      <th>distance</th>\n",
       "      <th>rating</th>\n",
       "      <th>rating_bus</th>\n",
       "      <th>rating_weather</th>\n",
       "      <th>car_or_bus</th>\n",
       "    </tr>\n",
       "  </thead>\n",
       "  <tbody>\n",
       "    <tr>\n",
       "      <th>count</th>\n",
       "      <td>163.000000</td>\n",
       "      <td>163.000000</td>\n",
       "      <td>163.000000</td>\n",
       "      <td>163.000000</td>\n",
       "      <td>163.000000</td>\n",
       "      <td>163.000000</td>\n",
       "      <td>163.000000</td>\n",
       "      <td>163.000000</td>\n",
       "      <td>163.000000</td>\n",
       "    </tr>\n",
       "    <tr>\n",
       "      <th>mean</th>\n",
       "      <td>15607.650307</td>\n",
       "      <td>7.386503</td>\n",
       "      <td>16.704738</td>\n",
       "      <td>0.264272</td>\n",
       "      <td>5.302411</td>\n",
       "      <td>2.515337</td>\n",
       "      <td>0.386503</td>\n",
       "      <td>0.515337</td>\n",
       "      <td>1.466258</td>\n",
       "    </tr>\n",
       "    <tr>\n",
       "      <th>std</th>\n",
       "      <td>18644.257138</td>\n",
       "      <td>7.348742</td>\n",
       "      <td>16.016168</td>\n",
       "      <td>0.292731</td>\n",
       "      <td>7.639011</td>\n",
       "      <td>0.679105</td>\n",
       "      <td>0.687859</td>\n",
       "      <td>0.841485</td>\n",
       "      <td>0.500397</td>\n",
       "    </tr>\n",
       "    <tr>\n",
       "      <th>min</th>\n",
       "      <td>1.000000</td>\n",
       "      <td>0.000000</td>\n",
       "      <td>0.009779</td>\n",
       "      <td>0.002175</td>\n",
       "      <td>0.001000</td>\n",
       "      <td>1.000000</td>\n",
       "      <td>0.000000</td>\n",
       "      <td>0.000000</td>\n",
       "      <td>1.000000</td>\n",
       "    </tr>\n",
       "    <tr>\n",
       "      <th>25%</th>\n",
       "      <td>48.500000</td>\n",
       "      <td>1.000000</td>\n",
       "      <td>1.591016</td>\n",
       "      <td>0.035978</td>\n",
       "      <td>0.034500</td>\n",
       "      <td>2.000000</td>\n",
       "      <td>0.000000</td>\n",
       "      <td>0.000000</td>\n",
       "      <td>1.000000</td>\n",
       "    </tr>\n",
       "    <tr>\n",
       "      <th>50%</th>\n",
       "      <td>158.000000</td>\n",
       "      <td>4.000000</td>\n",
       "      <td>16.685368</td>\n",
       "      <td>0.214466</td>\n",
       "      <td>3.995000</td>\n",
       "      <td>3.000000</td>\n",
       "      <td>0.000000</td>\n",
       "      <td>0.000000</td>\n",
       "      <td>1.000000</td>\n",
       "    </tr>\n",
       "    <tr>\n",
       "      <th>75%</th>\n",
       "      <td>37991.000000</td>\n",
       "      <td>10.000000</td>\n",
       "      <td>23.915760</td>\n",
       "      <td>0.390572</td>\n",
       "      <td>7.333000</td>\n",
       "      <td>3.000000</td>\n",
       "      <td>1.000000</td>\n",
       "      <td>1.000000</td>\n",
       "      <td>2.000000</td>\n",
       "    </tr>\n",
       "    <tr>\n",
       "      <th>max</th>\n",
       "      <td>38092.000000</td>\n",
       "      <td>27.000000</td>\n",
       "      <td>96.206029</td>\n",
       "      <td>1.942948</td>\n",
       "      <td>55.770000</td>\n",
       "      <td>3.000000</td>\n",
       "      <td>3.000000</td>\n",
       "      <td>2.000000</td>\n",
       "      <td>2.000000</td>\n",
       "    </tr>\n",
       "  </tbody>\n",
       "</table>\n",
       "</div>"
      ],
      "text/plain": [
       "                 id  id_android       speed        time    distance  \\\n",
       "count    163.000000  163.000000  163.000000  163.000000  163.000000   \n",
       "mean   15607.650307    7.386503   16.704738    0.264272    5.302411   \n",
       "std    18644.257138    7.348742   16.016168    0.292731    7.639011   \n",
       "min        1.000000    0.000000    0.009779    0.002175    0.001000   \n",
       "25%       48.500000    1.000000    1.591016    0.035978    0.034500   \n",
       "50%      158.000000    4.000000   16.685368    0.214466    3.995000   \n",
       "75%    37991.000000   10.000000   23.915760    0.390572    7.333000   \n",
       "max    38092.000000   27.000000   96.206029    1.942948   55.770000   \n",
       "\n",
       "           rating  rating_bus  rating_weather  car_or_bus  \n",
       "count  163.000000  163.000000      163.000000  163.000000  \n",
       "mean     2.515337    0.386503        0.515337    1.466258  \n",
       "std      0.679105    0.687859        0.841485    0.500397  \n",
       "min      1.000000    0.000000        0.000000    1.000000  \n",
       "25%      2.000000    0.000000        0.000000    1.000000  \n",
       "50%      3.000000    0.000000        0.000000    1.000000  \n",
       "75%      3.000000    1.000000        1.000000    2.000000  \n",
       "max      3.000000    3.000000        2.000000    2.000000  "
      ]
     },
     "execution_count": 2,
     "metadata": {},
     "output_type": "execute_result"
    }
   ],
   "source": [
    "df.describe()\n"
   ]
  },
  {
   "cell_type": "code",
   "execution_count": 3,
   "metadata": {},
   "outputs": [],
   "source": [
    "from sklearn.preprocessing import MinMaxScaler\n",
    "scaler = MinMaxScaler()\n",
    "df_drop=df.drop(['id','id_android','linha'],axis=1)\n"
   ]
  },
  {
   "cell_type": "code",
   "execution_count": 4,
   "metadata": {},
   "outputs": [
    {
     "data": {
      "text/html": [
       "<div>\n",
       "<style scoped>\n",
       "    .dataframe tbody tr th:only-of-type {\n",
       "        vertical-align: middle;\n",
       "    }\n",
       "\n",
       "    .dataframe tbody tr th {\n",
       "        vertical-align: top;\n",
       "    }\n",
       "\n",
       "    .dataframe thead th {\n",
       "        text-align: right;\n",
       "    }\n",
       "</style>\n",
       "<table border=\"1\" class=\"dataframe\">\n",
       "  <thead>\n",
       "    <tr style=\"text-align: right;\">\n",
       "      <th></th>\n",
       "      <th>speed</th>\n",
       "      <th>time</th>\n",
       "      <th>distance</th>\n",
       "      <th>rating</th>\n",
       "      <th>rating_bus</th>\n",
       "      <th>rating_weather_0</th>\n",
       "      <th>rating_weather_1</th>\n",
       "      <th>rating_weather_2</th>\n",
       "      <th>car_or_bus_1</th>\n",
       "      <th>car_or_bus_2</th>\n",
       "    </tr>\n",
       "  </thead>\n",
       "  <tbody>\n",
       "    <tr>\n",
       "      <th>0</th>\n",
       "      <td>19.210586</td>\n",
       "      <td>0.138049</td>\n",
       "      <td>2.652</td>\n",
       "      <td>3</td>\n",
       "      <td>0</td>\n",
       "      <td>1</td>\n",
       "      <td>0</td>\n",
       "      <td>0</td>\n",
       "      <td>1</td>\n",
       "      <td>0</td>\n",
       "    </tr>\n",
       "    <tr>\n",
       "      <th>1</th>\n",
       "      <td>30.848229</td>\n",
       "      <td>0.171485</td>\n",
       "      <td>5.290</td>\n",
       "      <td>3</td>\n",
       "      <td>0</td>\n",
       "      <td>1</td>\n",
       "      <td>0</td>\n",
       "      <td>0</td>\n",
       "      <td>1</td>\n",
       "      <td>0</td>\n",
       "    </tr>\n",
       "    <tr>\n",
       "      <th>2</th>\n",
       "      <td>13.560101</td>\n",
       "      <td>0.067699</td>\n",
       "      <td>0.918</td>\n",
       "      <td>3</td>\n",
       "      <td>0</td>\n",
       "      <td>1</td>\n",
       "      <td>0</td>\n",
       "      <td>0</td>\n",
       "      <td>0</td>\n",
       "      <td>1</td>\n",
       "    </tr>\n",
       "    <tr>\n",
       "      <th>3</th>\n",
       "      <td>19.766679</td>\n",
       "      <td>0.389544</td>\n",
       "      <td>7.700</td>\n",
       "      <td>3</td>\n",
       "      <td>0</td>\n",
       "      <td>1</td>\n",
       "      <td>0</td>\n",
       "      <td>0</td>\n",
       "      <td>0</td>\n",
       "      <td>1</td>\n",
       "    </tr>\n",
       "    <tr>\n",
       "      <th>4</th>\n",
       "      <td>25.807401</td>\n",
       "      <td>0.154801</td>\n",
       "      <td>3.995</td>\n",
       "      <td>2</td>\n",
       "      <td>0</td>\n",
       "      <td>1</td>\n",
       "      <td>0</td>\n",
       "      <td>0</td>\n",
       "      <td>1</td>\n",
       "      <td>0</td>\n",
       "    </tr>\n",
       "  </tbody>\n",
       "</table>\n",
       "</div>"
      ],
      "text/plain": [
       "       speed      time  distance  rating  rating_bus  rating_weather_0  \\\n",
       "0  19.210586  0.138049     2.652       3           0                 1   \n",
       "1  30.848229  0.171485     5.290       3           0                 1   \n",
       "2  13.560101  0.067699     0.918       3           0                 1   \n",
       "3  19.766679  0.389544     7.700       3           0                 1   \n",
       "4  25.807401  0.154801     3.995       2           0                 1   \n",
       "\n",
       "   rating_weather_1  rating_weather_2  car_or_bus_1  car_or_bus_2  \n",
       "0                 0                 0             1             0  \n",
       "1                 0                 0             1             0  \n",
       "2                 0                 0             0             1  \n",
       "3                 0                 0             0             1  \n",
       "4                 0                 0             1             0  "
      ]
     },
     "execution_count": 4,
     "metadata": {},
     "output_type": "execute_result"
    }
   ],
   "source": [
    "df_dummies=pd.get_dummies(df_drop,columns=['rating_weather','car_or_bus'])\n",
    "df_dummies.head()\n",
    "#print('correlation')\n",
    "#correlation=df_dummies.corr(method ='pearson')\n",
    "#print(correlation)\n",
    "#print(df_dummies)"
   ]
  },
  {
   "cell_type": "code",
   "execution_count": 5,
   "metadata": {},
   "outputs": [
    {
     "name": "stdout",
     "output_type": "stream",
     "text": [
      "(163, 10)\n"
     ]
    }
   ],
   "source": [
    "print(df_dummies.shape)\n",
    "df_dup=df_dummies.drop_duplicates()\n",
    "#print(df_dup)"
   ]
  },
  {
   "cell_type": "code",
   "execution_count": 6,
   "metadata": {},
   "outputs": [],
   "source": [
    "target_count = df_dup['rating'].value_counts()\n",
    "\n",
    "target_count.plot(kind='bar', title='Count (target)');"
   ]
  },
  {
   "cell_type": "code",
   "execution_count": 7,
   "metadata": {},
   "outputs": [
    {
     "name": "stderr",
     "output_type": "stream",
     "text": [
      "Using TensorFlow backend.\n"
     ]
    },
    {
     "name": "stdout",
     "output_type": "stream",
     "text": [
      "(264, 10)\n"
     ]
    },
    {
     "data": {
      "image/png": "[encoded data removed]",
      "text/plain": [
       "<Figure size 432x288 with 1 Axes>"
      ]
     },
     "metadata": {},
     "output_type": "display_data"
    }
   ],
   "source": [
    "from imblearn.over_sampling import RandomOverSampler \n",
    "ros = RandomOverSampler(random_state=42)\n",
    "#print(df_dup.columns)\n",
    "X_res, y_res = ros.fit_resample(df_dup.drop(['rating'],axis=1), df_dup['rating'])\n",
    "#print(X_res.shape)\n",
    "#print(y_res)\n",
    "#print(df_dup)\n",
    "features_sampling=pd.DataFrame(data=X_res,columns=['speed', 'time', 'distance', 'rating_bus', 'rating_weather_0',\n",
    "       'rating_weather_1', 'rating_weather_2', 'car_or_bus_1', 'car_or_bus_2'])\n",
    "target_sampling=pd.DataFrame(data=y_res,columns=['rating'])\n",
    "#print(features_sampling['rating_bus'])\n",
    "#print(target_sampling)\n",
    "target_count = target_sampling['rating'].value_counts()\n",
    "\n",
    "target_count.plot(kind='bar', title='Count (target)');\n",
    "df_dup=pd.concat([features_sampling,target_sampling],axis=1)\n",
    "print(df_dup.shape)\n"
   ]
  },
  {
   "cell_type": "code",
   "execution_count": 8,
   "metadata": {},
   "outputs": [
    {
     "name": "stdout",
     "output_type": "stream",
     "text": [
      "         speed      time  distance\n",
      "0    19.210586  0.138049     2.652\n",
      "1    30.848229  0.171485     5.290\n",
      "2    13.560101  0.067699     0.918\n",
      "3    19.766679  0.389544     7.700\n",
      "4    25.807401  0.154801     3.995\n",
      "..         ...       ...       ...\n",
      "259  16.263504  0.450948     7.334\n",
      "260  12.611045  0.579096     7.303\n",
      "261   0.307455  0.458604     0.141\n",
      "262  25.807401  0.154801     3.995\n",
      "263  19.423655  0.236567     4.595\n",
      "\n",
      "[264 rows x 3 columns]\n",
      "(264, 7)\n",
      "     rating_bus      time\n",
      "0           0.0  0.070010\n",
      "1           0.0  0.087238\n",
      "2           0.0  0.033762\n",
      "3           0.0  0.199595\n",
      "4           0.0  0.078642\n",
      "..          ...       ...\n",
      "259         0.0  0.231234\n",
      "260         0.0  0.297263\n",
      "261         0.0  0.235179\n",
      "262         0.0  0.078642\n",
      "263         0.0  0.120773\n",
      "\n",
      "[264 rows x 2 columns]\n"
     ]
    }
   ],
   "source": [
    "from sklearn.preprocessing import MinMaxScaler\n",
    "#print(df_dup.columns)\n",
    "fe_sc=df_dup[['speed','time','distance']]\n",
    "print(fe_sc)\n",
    "fe_nsc=pd.DataFrame(data=df_dup.drop(['speed','time','distance'],axis=1),columns=['rating_bus', 'rating_weather_0',\n",
    "       'rating_weather_1', 'rating_weather_2', 'car_or_bus_1', 'car_or_bus_2',\n",
    "       'rating'])\n",
    "print(fe_nsc.shape)\n",
    "scaler = MinMaxScaler(copy='true')\n",
    "scaler.fit(fe_sc)\n",
    "fe_scd=pd.DataFrame(data=scaler.transform(fe_sc),columns=fe_sc.columns)\n",
    "data=pd.concat([fe_scd,fe_nsc],axis=1)\n",
    "print(data[['rating_bus','time']])\n",
    "correlation=data.corr(method ='pearson')\n",
    "#print(correlation)\n",
    "#print(fe_scd.columns)\n",
    "#print(df_scaled.corr())\n",
    "#print(fe_scd.shape)"
   ]
  },
  {
   "cell_type": "code",
   "execution_count": 9,
   "metadata": {},
   "outputs": [
    {
     "data": {
      "image/png": "[encoded data removed]",
      "text/plain": [
       "<Figure size 432x288 with 1 Axes>"
      ]
     },
     "metadata": {},
     "output_type": "display_data"
    }
   ],
   "source": [
    "boxplot=data.boxplot(column=['speed', 'time', 'distance', 'rating', 'rating_bus',\n",
    "       'rating_weather_0', 'rating_weather_1', 'rating_weather_2',\n",
    "       'car_or_bus_1', 'car_or_bus_2'],rot=45,fontsize=9)"
   ]
  },
  {
   "cell_type": "code",
   "execution_count": 10,
   "metadata": {},
   "outputs": [
    {
     "name": "stdout",
     "output_type": "stream",
     "text": [
      "AxesSubplot(0.125,0.125;0.775x0.755)\n"
     ]
    },
    {
     "data": {
      "image/png": "[encoded data removed]",
      "text/plain": [
       "<Figure size 432x288 with 1 Axes>"
      ]
     },
     "metadata": {},
     "output_type": "display_data"
    }
   ],
   "source": [
    "\n",
    "Q1 = data.quantile(0.25)\n",
    "Q3 = data.quantile(0.75)\n",
    "IQR = Q3-Q1\n",
    "# #print(IQR)\n",
    "# #print(df< (Q1 - 1.5 * IQR)) |(df> (Q3 + 1.5 * IQR))\n",
    "\n",
    "df_dup = data[~((data < (Q1 - 1.5 * IQR)) |(data > (Q3 + 1.5 * IQR))).any(axis=1)]\n",
    "#print(df_dup.shape)\n",
    "#print()\n",
    "# #df_removedoutliers.shape\n",
    "# #dfo_scaled = pd.DataFrame(scaler.fit_transform(df_removedoutliers), columns=df_removedoutliers.columns)\n",
    "# #df= pd.DataFrame(sc.fit_transform(sdf))\n",
    "boxplot=df_dup.boxplot(column=['speed','time','distance','rating','rating_bus','rating_weather_0','rating_weather_1','rating_weather_2','car_or_bus_1','car_or_bus_2'],rot=45,fontsize=9)\n",
    "print(boxplot)\n",
    "# features_transformed=pd.DataFrame(data=df_dup.drop(['rating','rating_bus','rating_weather_0','rating_weather_1','rating_weather_2','car_or_bus_1','car_or_bus_2'\n",
    "# ],axis=1))\n",
    "# features_nontransformed=pd.DataFrame(data=df_dup[['rating','rating_bus','rating_weather_0','rating_weather_1','rating_weather_2','car_or_bus_1','car_or_bus_2'\n",
    "# ]],columns=['rating','rating_bus','rating_weather_0','rating_weather_1','rating_weather_2','car_or_bus_1','car_or_bus_2'\n",
    "# ])\n",
    "# df_transformed=pd.DataFrame(data=pt.fit(df_dup).transform(df_dup),columns=df_dup.columns)\n"
   ]
  },
  {
   "cell_type": "code",
   "execution_count": 11,
   "metadata": {},
   "outputs": [],
   "source": [
    "# import matplotlib.pyplot as plt\n",
    "# import numpy as np\n",
    "# from scipy import stats\n",
    "# j=0\n",
    "# for i in df_dup.keys():\n",
    "#     param = stats.norm.fit(df_dup)\n",
    "#     x = np.linspace(-3, 3, 100)\n",
    "#     pdf_fitted = stats.norm.pdf(x, *param)\n",
    "#     df_dup.plot.hist(alpha=0.5, bins=15, grid=True, normed=True, legend=None)\n",
    "#     plt.text(x=np.min(df_dup[i]), y=0.1, s=r\"$\\mu=%0.1f$\" % param[0] + \"\\n\" + r\"$\\sigma=%0.1f$\" % param[1], color='r')\n",
    "#     plt.xlabel(i)\n",
    "#     plt.title(\"Histogram\")\n",
    "#     plt.plot(x, pdf_fitted, color='r')\n",
    "#     plt.show()\n",
    "#     j=j+1"
   ]
  },
  {
   "cell_type": "code",
   "execution_count": 12,
   "metadata": {},
   "outputs": [
    {
     "data": {
      "image/png": "[encoded data removed]",
      "text/plain": [
       "<Figure size 432x288 with 1 Axes>"
      ]
     },
     "metadata": {},
     "output_type": "display_data"
    },
    {
     "data": {
      "image/png": "[encoded data removed]",
      "text/plain": [
       "<Figure size 432x288 with 1 Axes>"
      ]
     },
     "metadata": {},
     "output_type": "display_data"
    },
    {
     "data": {
      "image/png": "[encoded data removed]",
      "text/plain": [
       "<Figure size 432x288 with 1 Axes>"
      ]
     },
     "metadata": {},
     "output_type": "display_data"
    }
   ],
   "source": [
    "import matplotlib.pyplot as plt\n",
    "x=pd.DataFrame(data=df_dup[['speed','time','distance']],columns=['speed','time','distance'])\n",
    "target=pd.DataFrame(data=df_dup['rating'],columns=['rating'])\n",
    "from statsmodels.graphics.gofplots import qqplot\n",
    "for each in x.keys():\n",
    "    qqplot(x[each],line='s')\n",
    "    plt.show()"
   ]
  },
  {
   "cell_type": "code",
   "execution_count": 13,
   "metadata": {},
   "outputs": [],
   "source": [
    "#print(df_dup)"
   ]
  },
  {
   "cell_type": "code",
   "execution_count": 14,
   "metadata": {},
   "outputs": [],
   "source": [
    "features=df_dup.drop(['rating'],axis=1)\n",
    "target=pd.DataFrame(data=df_dup['rating'],columns=['rating'])\n",
    "from sklearn.model_selection import train_test_split\n",
    "x_train,x_test,y_train,y_test=train_test_split(features,target,test_size=0.2)\n"
   ]
  },
  {
   "cell_type": "code",
   "execution_count": null,
   "metadata": {},
   "outputs": [],
   "source": []
  },
  {
   "cell_type": "code",
   "execution_count": 15,
   "metadata": {},
   "outputs": [
    {
     "name": "stdout",
     "output_type": "stream",
     "text": [
      "Index(['speed', 'time', 'distance', 'rating_bus', 'rating_weather_0',\n",
      "       'rating_weather_1', 'rating_weather_2', 'car_or_bus_1', 'car_or_bus_2'],\n",
      "      dtype='object')\n",
      "[2 2 2 2 2 2 2 2 2 2 2 2 2 2 2 2 2 2 2 2 2 2 2 2 2 2 2 2 2 2 3]\n",
      "0.5806451612903226\n",
      "[ 2.29713205e+00 -9.84848288e-01 -1.13379058e-02  0.00000000e+00\n",
      " -4.40856527e-06  0.00000000e+00  0.00000000e+00  5.44921965e-01\n",
      " -5.44926374e-01]\n",
      "[[ 0  0  0]\n",
      " [ 4 17  9]\n",
      " [ 0  0  1]]\n"
     ]
    }
   ],
   "source": [
    "from mord import LogisticAT\n",
    "from sklearn.model_selection import cross_val_predict\n",
    "from sklearn.metrics import confusion_matrix\n",
    "from sklearn.model_selection import cross_val_score\n",
    "model_ordinal = LogisticAT()\n",
    "from sklearn.model_selection import cross_validate\n",
    "from sklearn.metrics import mean_absolute_error\n",
    "from sklearn.metrics import make_scorer\n",
    "import numpy as np\n",
    "\n",
    "print(features.columns)\n",
    "model_ordinal.fit(x_train,y_train['rating'])\n",
    "predictions=model_ordinal.predict(x_test)\n",
    "print(predictions)\n",
    "\n",
    "from sklearn.metrics import accuracy_score\n",
    "score=accuracy_score(predictions,y_test)\n",
    "print(score)\n",
    "print(model_ordinal.coef_)\n",
    "con_mat=confusion_matrix(predictions,y_test)\n",
    "print(con_mat)\n",
    "# folds = 5\n",
    "\n",
    "# MAE = make_scorer(mean_absolute_error)\n",
    "# #print(MAE)\n",
    "# MAE_ordinal = cross_validate(model_ordinal,\n",
    "#      features,\n",
    "#      target,\n",
    "#      cv=folds,\n",
    "#      return_estimator=True)\n",
    "# #print('Ordered logistic regression: ', MAE_ordinal)\n",
    "# for model in MAE_ordinal['estimator']:\n",
    "#      print(model.coef_)\n",
    "# #     #print(model.intercept_)\n",
    "# # #print(model_ordinal.intercept_)\n",
    "# #from sklearn.model_selection import train_test_split\n",
    "# #x_train,x_test,y_train,y_test=train_test_split(features,target,test_size=0.2)\n",
    "# # #print(x_train)\n",
    "# from sklearn.metrics import accuracy_score\n",
    "# def acc_fun(target_true, target_fit):\n",
    "#         target_fit = np.round(target_fit)\n",
    "#         target_fit.astype('int')\n",
    "#         return accuracy_score(target_true, target_fit)\n",
    "# acc = make_scorer(acc_fun)\n",
    "# acc_ordinal = cross_val_score(model_ordinal,\n",
    "#      features,\n",
    "#      target,\n",
    "#      cv=folds,\n",
    "#      scoring=acc)\n",
    "# #predict=make_scorer(predict_fun)\n",
    "# #predicted = cross_val_predict(model_ordinal, features, target, cv=5) \n",
    "# #print(target.shape)\n",
    "# #print(predicted.shape)\n",
    "# print(np.mean(acc_ordinal))\n",
    "# # model_ordinal.predict(x_test)\n",
    "# # #print(predictions)"
   ]
  },
  {
   "cell_type": "code",
   "execution_count": 16,
   "metadata": {},
   "outputs": [
    {
     "name": "stdout",
     "output_type": "stream",
     "text": [
      "Num Features: 4\n",
      "Selected Features: [ True  True  True False False False False  True]\n",
      "Feature Ranking: [1 1 1 5 2 4 3 1]\n"
     ]
    }
   ],
   "source": [
    "from sklearn.feature_selection import RFE\n",
    "from sklearn.linear_model import LogisticRegression\n",
    "array = df_dup.values\n",
    "\n",
    "#Split the data into input and target\n",
    "\n",
    "X = array[:,0:8]\n",
    "\n",
    "Y = array[:,8]\n",
    "\n",
    "#Feature extraction\n",
    "\n",
    "model = LogisticRegression(solver=\"lbfgs\") \n",
    "rfe = RFE(model)\n",
    "\n",
    "fit = rfe.fit(X, Y)\n",
    "\n",
    "print(\"Num Features: %d\"% fit.n_features_) \n",
    "print(\"Selected Features: %s\"% fit.support_)\n",
    "print(\"Feature Ranking: %s\"% fit.ranking_)"
   ]
  },
  {
   "cell_type": "code",
   "execution_count": 17,
   "metadata": {},
   "outputs": [
    {
     "data": {
      "image/png": "[encoded data removed]",
      "text/plain": [
       "<Figure size 1080x360 with 1 Axes>"
      ]
     },
     "metadata": {},
     "output_type": "display_data"
    }
   ],
   "source": [
    "#print(df_dup.columns)\n",
    "columns_names=['speed', 'time', 'distance', 'rating_bus', 'rating_weather_0',\n",
    "       'rating_weather_1', 'rating_weather_2', 'car_or_bus_1', 'car_or_bus_2',\n",
    "       ]\n",
    "regression_coefficient = pd.DataFrame({'Feature': columns_names, 'Coefficient': model_ordinal.coef_}, columns=['Feature', 'Coefficient'])\n",
    "\n",
    "plt.figure(figsize=(15,5))\n",
    "import seaborn as sns\n",
    "\n",
    "g = sns.barplot(x='Feature', y='Coefficient', data=regression_coefficient, capsize=0.3, palette='spring')\n",
    "g.set_title(\"Contribution of features towards target variable\", fontsize=15)\n",
    "g.set_xlabel(\"Feature\", fontsize=13)\n",
    "g.set_ylabel(\"Degree of Coefficient\", fontsize=13)\n",
    "g.set_yticks([-8, -6, -4, -2, 0, 2, 4, 6, 8])\n",
    "g.set_xticklabels(columns_names)\n",
    "for p in g.patches:\n",
    "    g.annotate(np.round(p.get_height(),decimals=2), \n",
    "                (p.get_x()+p.get_width()/2., p.get_height()), \n",
    "                ha='center', va='center', xytext=(0, 10), \n",
    "               textcoords='offset points', fontsize=14, color='black')"
   ]
  },
  {
   "cell_type": "code",
   "execution_count": 18,
   "metadata": {},
   "outputs": [
    {
     "name": "stdout",
     "output_type": "stream",
     "text": [
      "Num Features: 4\n",
      "Selected Features: [ True  True  True False False False False  True]\n",
      "Feature Ranking: [1 1 1 5 2 4 3 1]\n"
     ]
    }
   ],
   "source": [
    "from sklearn.feature_selection import RFE\n",
    "from sklearn.linear_model import LogisticRegression\n",
    "ar=df_dup.values\n",
    "X = ar[:,0:8]\n",
    "\n",
    "Y = ar[:,8]\n",
    "\n",
    "#Feature extraction\n",
    "\n",
    "model = LogisticRegression(solver=\"lbfgs\")\n",
    "rfe = RFE(model)\n",
    "\n",
    "fit = rfe.fit(X, Y)\n",
    "\n",
    "print(\"Num Features: %d\"% fit.n_features_)\n",
    "print(\"Selected Features: %s\"% fit.support_)\n",
    "print(\"Feature Ranking: %s\"% fit.ranking_)"
   ]
  },
  {
   "cell_type": "code",
   "execution_count": 19,
   "metadata": {},
   "outputs": [],
   "source": [
    "# from scipy.stats import chisquare\n",
    "# chisquare(predictions,y_test)"
   ]
  },
  {
   "cell_type": "code",
   "execution_count": 20,
   "metadata": {},
   "outputs": [
    {
     "data": {
      "text/plain": [
       "<matplotlib.axes._subplots.AxesSubplot at 0x22d2130c438>"
      ]
     },
     "execution_count": 20,
     "metadata": {},
     "output_type": "execute_result"
    },
    {
     "data": {
      "image/png": "[encoded data removed]",
      "text/plain": [
       "<Figure size 432x288 with 2 Axes>"
      ]
     },
     "metadata": {},
     "output_type": "display_data"
    }
   ],
   "source": [
    "import seaborn as sns\n",
    "# from feature_selector import FeatureSelector\n",
    "# # Features are in train and labels are in train_labels\n",
    "# fs = FeatureSelector(data = features, labels = target)\n",
    "# #fs.identify_missing(missing_threshold = 0.6)\n",
    "# #fs.identify_collinear(correlation_threshold = 0.95,method=\"pearson\")\n",
    "# collinear_features = fs.ops['collinear']\n",
    "# print(fs.record_collinear.head())\n",
    "# fs.plot_collinear(plot_all = True)\n",
    "# Pass in the appropriate parameters\n",
    "correlation=df_dummies.corr(method ='pearson')\n",
    "#print(correlation)\n",
    "sns.heatmap(correlation, annot=True, cmap='coolwarm')"
   ]
  },
  {
   "cell_type": "code",
   "execution_count": 21,
   "metadata": {},
   "outputs": [
    {
     "name": "stdout",
     "output_type": "stream",
     "text": [
      "[2 2 2 2 2 2 2 2 2 2 2 2 2 2 2 2 2 2 2 2 2 2 2 2 2 2 2 2 2 2 3]\n",
      "0.5806451612903226\n",
      "[ 2.32448724e+00 -9.62925398e-01  3.62949614e-03 -7.65594372e-07\n",
      " -1.02266483e+00]\n",
      "[[ 0  0  0]\n",
      " [ 4 17  9]\n",
      " [ 0  0  1]]\n"
     ]
    }
   ],
   "source": [
    "x_train_drop=x_train.drop(['car_or_bus_1','rating_bus','rating_weather_1','rating_weather_2'],axis=1)\n",
    "x_test_drop=x_test.drop(['car_or_bus_1','rating_bus','rating_weather_1','rating_weather_2'],axis=1)\n",
    "from mord import LogisticAT\n",
    "from sklearn.model_selection import cross_val_predict\n",
    "from sklearn.model_selection import cross_val_score\n",
    "model_ordinal = LogisticAT()\n",
    "from sklearn.model_selection import cross_validate\n",
    "from sklearn.metrics import mean_absolute_error\n",
    "from sklearn.metrics import make_scorer\n",
    "import numpy as np\n",
    "model_ordinal.fit(x_train_drop,y_train['rating'])\n",
    "predictions=model_ordinal.predict(x_test_drop)\n",
    "print(predictions)\n",
    "\n",
    "from sklearn.metrics import accuracy_score\n",
    "score=accuracy_score(predictions,y_test)\n",
    "print(score)\n",
    "print(model_ordinal.coef_)\n",
    "from sklearn.metrics import confusion_matrix\n",
    "con_mat=confusion_matrix(predictions,y_test)\n",
    "print(con_mat)"
   ]
  },
  {
   "cell_type": "code",
   "execution_count": 22,
   "metadata": {},
   "outputs": [],
   "source": [
    "# from imblearn.over_sampling import RandomOverSampler \n",
    "# ros = RandomOverSampler(random_state=42)\n",
    "# X_res, y_res = ros.fit_resample(features, target['rating'])\n",
    "# print(X_res.shape)\n",
    "# print(y_res)"
   ]
  },
  {
   "cell_type": "code",
   "execution_count": 23,
   "metadata": {},
   "outputs": [],
   "source": [
    "# features_sampling=pd.DataFrame(data=X_res,columns=features.columns)\n",
    "# target_sampling=pd.DataFrame(data=y_res,columns=['rating'])\n",
    "# print(target_sampling)\n",
    "# target_count = target_sampling['rating'].value_counts()\n",
    "\n",
    "# target_count.plot(kind='bar', title='Count (target)');"
   ]
  },
  {
   "cell_type": "code",
   "execution_count": 24,
   "metadata": {},
   "outputs": [],
   "source": [
    "\n",
    "# from sklearn.model_selection import train_test_split\n",
    "# x_train,x_test,y_train,y_test=train_test_split(features_sampling,target_sampling,test_size=0.2)\n"
   ]
  },
  {
   "cell_type": "code",
   "execution_count": 25,
   "metadata": {},
   "outputs": [],
   "source": [
    "# from mord import LogisticAT\n",
    "# from sklearn.model_selection import cross_val_predict\n",
    "# from sklearn.model_selection import cross_val_score\n",
    "# a_model_ordinal = LogisticAT()\n",
    "# a_model_ordinal.fit(x_train,y_train['rating'])\n",
    "# predictions=a_model_ordinal.predict(x_test)\n",
    "# print(predictions)\n",
    "\n",
    "# from sklearn.metrics import accuracy_score\n",
    "# score=accuracy_score(predictions,y_test)\n",
    "# print(score)\n",
    "# print(model_ordinal.coef_)"
   ]
  },
  {
   "cell_type": "code",
   "execution_count": 26,
   "metadata": {},
   "outputs": [],
   "source": [
    "import seaborn as sns"
   ]
  },
  {
   "cell_type": "code",
   "execution_count": 27,
   "metadata": {},
   "outputs": [
    {
     "data": {
      "image/png": "[encoded data removed]",
      "text/plain": [
       "<Figure size 432x288 with 1 Axes>"
      ]
     },
     "metadata": {},
     "output_type": "display_data"
    }
   ],
   "source": [
    "gre = sns.regplot(x= 'speed', y= 'time', data= df_dup, logistic= True).set_title(\"speed Log Odds Linear time\")\n",
    "gre.figure.savefig(\"gre log lin.png\")"
   ]
  },
  {
   "cell_type": "code",
   "execution_count": 28,
   "metadata": {
    "scrolled": true
   },
   "outputs": [
    {
     "data": {
      "image/png": "[encoded data removed]",
      "text/plain": [
       "<Figure size 432x288 with 1 Axes>"
      ]
     },
     "metadata": {},
     "output_type": "display_data"
    }
   ],
   "source": [
    "gre = sns.regplot(x='distance', y= 'speed', data= df_dup, logistic= True).set_title(\"speed Log Odds Linear time\")\n",
    "gre.figure.savefig(\"gre log lin.png\")"
   ]
  },
  {
   "cell_type": "code",
   "execution_count": 29,
   "metadata": {},
   "outputs": [
    {
     "data": {
      "image/png": "[encoded data removed]",
      "text/plain": [
       "<Figure size 432x288 with 1 Axes>"
      ]
     },
     "metadata": {},
     "output_type": "display_data"
    }
   ],
   "source": [
    "gre = sns.regplot(x= 'distance', y= 'time', data= df_dup, logistic= True).set_title(\"time log Odds Linear distance\")\n",
    "gre.figure.savefig(\"time log distance.png\")"
   ]
  },
  {
   "cell_type": "code",
   "execution_count": 30,
   "metadata": {},
   "outputs": [
    {
     "name": "stdout",
     "output_type": "stream",
     "text": [
      "0.6580645161290323\n",
      "[[-5.52822551e+00  3.50113465e+00  3.17647802e+00  0.00000000e+00\n",
      "   6.16715464e-04  0.00000000e+00  0.00000000e+00 -5.08959471e-01\n",
      "   5.09576187e-01]\n",
      " [-2.09515539e+00  9.53578685e-02 -1.04287583e+00  0.00000000e+00\n",
      "  -3.86861143e-03  0.00000000e+00  0.00000000e+00 -2.26950331e-02\n",
      "   1.88264216e-02]\n",
      " [ 7.62338090e+00 -3.59649252e+00 -2.13360218e+00  0.00000000e+00\n",
      "   3.25189597e-03  0.00000000e+00  0.00000000e+00  5.31654504e-01\n",
      "  -5.28402608e-01]]\n",
      "[-0.59932287  1.14069747 -0.54137459]\n"
     ]
    }
   ],
   "source": [
    "from sklearn.linear_model import LogisticRegressionCV\n",
    "X=df_dup.drop(['rating'],axis=1)\n",
    "Y=df_dup['rating']\n",
    "#print(Y)\n",
    "# import imblearn\n",
    "# ros =imblearn.RandomOverSampler(random_state=0)\n",
    "# X_resampled, y_resampled = ros.fit_resample(X, y)\n",
    "\n",
    "# for i in range(0,len(Y)):\n",
    "#     if Y[i]==1 or Y[i]==2:\n",
    "#         Y[i]=1\n",
    "#     else:\n",
    "#         Y[i]=0\n",
    "clogreg = LogisticRegressionCV(solver=\"lbfgs\",cv=5,multi_class=\"auto\",max_iter=1500).fit(X,Y)\n",
    "print(clogreg.score(X,Y))\n",
    "print(clogreg.coef_)\n",
    "print(clogreg.intercept_)"
   ]
  },
  {
   "cell_type": "code",
   "execution_count": 31,
   "metadata": {},
   "outputs": [
    {
     "name": "stdout",
     "output_type": "stream",
     "text": [
      "0.6580645161290323\n",
      "[[-5.53074622e+00  3.49323103e+00  3.17347507e+00  5.11084927e-03\n",
      "   1.01217584e+00]\n",
      " [-2.09559423e+00  9.71864392e-02 -1.04234458e+00 -6.62311676e-06\n",
      "   4.17469559e-02]\n",
      " [ 7.62634046e+00 -3.59041747e+00 -2.13113049e+00 -5.10422615e-03\n",
      "  -1.05392279e+00]]\n",
      "[-1.1085018   1.11311259 -0.00461079]\n"
     ]
    }
   ],
   "source": [
    "X_t=df_dup.drop(['car_or_bus_1','rating','rating_bus','rating_weather_1','rating_weather_2'],axis=1)\n",
    "Y_t=df_dup['rating']\n",
    "clogreg = LogisticRegressionCV(solver=\"lbfgs\",cv=5,multi_class=\"auto\",max_iter=1500).fit(X_t,Y_t)\n",
    "print(clogreg.score(X_t,Y_t))\n",
    "print(clogreg.coef_)\n",
    "print(clogreg.intercept_)"
   ]
  },
  {
   "cell_type": "code",
   "execution_count": 32,
   "metadata": {},
   "outputs": [
    {
     "name": "stdout",
     "output_type": "stream",
     "text": [
      "[0.39493568 0.23027235 0.23015771 0.         0.         0.\n",
      " 0.         0.08416152 0.06047274]\n",
      "0.5161290322580645\n",
      "Index(['speed', 'time', 'distance', 'rating_bus', 'rating_weather_0',\n",
      "       'rating_weather_1', 'rating_weather_2', 'car_or_bus_1', 'car_or_bus_2'],\n",
      "      dtype='object')\n"
     ]
    }
   ],
   "source": [
    "from sklearn.ensemble import RandomForestClassifier\n",
    "from sklearn.datasets import make_classification\n",
    "x_train,x_test,y_train,y_test=train_test_split(features,target,test_size=0.2)\n",
    "clf = RandomForestClassifier(n_estimators=100, max_depth=2,random_state=0)\n",
    "clf.fit(x_train, y_train['rating'])  \n",
    "RandomForestClassifier(bootstrap=True, class_weight=None, criterion='gini',\n",
    "            max_depth=2, max_features='auto', max_leaf_nodes=None,\n",
    "            min_impurity_decrease=0.0, min_impurity_split=None,\n",
    "            min_samples_leaf=1, min_samples_split=2,\n",
    "            min_weight_fraction_leaf=0.0, n_estimators=100, n_jobs=None,\n",
    "            oob_score=False, random_state=0, verbose=0, warm_start=False)\n",
    "predictions=pd.DataFrame(data=clf.predict(x_test),columns=['predictions'])\n",
    "x_test=np.array(x_test)\n",
    "#print(predictions)\n",
    "#print(y_test)\n",
    "print(clf.feature_importances_)\n",
    "print(clf.score(x_test,y_test))\n",
    "print(features.columns)"
   ]
  },
  {
   "cell_type": "code",
   "execution_count": 33,
   "metadata": {},
   "outputs": [
    {
     "name": "stdout",
     "output_type": "stream",
     "text": [
      "[0.43316487 0.24825808 0.24148694 0.04317675 0.03391334]\n",
      "0.6129032258064516\n"
     ]
    }
   ],
   "source": [
    "f_imp=features.drop(['rating_bus','rating_weather_0','rating_weather_1','rating_weather_2'],axis=1)\n",
    "from sklearn.ensemble import RandomForestClassifier\n",
    "from sklearn.datasets import make_classification\n",
    "x_train,x_test,y_train,y_test=train_test_split(f_imp,target,test_size=0.2)\n",
    "clf = RandomForestClassifier(n_estimators=100, max_depth=2,random_state=0)\n",
    "clf.fit(x_train, y_train['rating'])  \n",
    "RandomForestClassifier(bootstrap=True, class_weight=None, criterion='gini',\n",
    "            max_depth=2, max_features='auto', max_leaf_nodes=None,\n",
    "            min_impurity_decrease=0.0, min_impurity_split=None,\n",
    "            min_samples_leaf=1, min_samples_split=2,\n",
    "            min_weight_fraction_leaf=0.0, n_estimators=100, n_jobs=None,\n",
    "            oob_score=False, random_state=0, verbose=0, warm_start=False)\n",
    "predictions=pd.DataFrame(data=clf.predict(x_test),columns=['predictions'])\n",
    "x_test=np.array(x_test)\n",
    "#print(predictions)\n",
    "#print(y_test)\n",
    "print(clf.feature_importances_)\n",
    "print(clf.score(x_test,y_test))"
   ]
  },
  {
   "cell_type": "code",
   "execution_count": 34,
   "metadata": {},
   "outputs": [
    {
     "name": "stdout",
     "output_type": "stream",
     "text": [
      "Fitting 3 folds for each of 100 candidates, totalling 300 fits\n"
     ]
    },
    {
     "name": "stderr",
     "output_type": "stream",
     "text": [
      "c:\\users\\tunug\\appdata\\local\\programs\\python\\python37\\lib\\site-packages\\sklearn\\ensemble\\forest.py:245: FutureWarning: The default value of n_estimators will change from 10 in version 0.20 to 100 in 0.22.\n",
      "  \"10 in version 0.20 to 100 in 0.22.\", FutureWarning)\n",
      "[Parallel(n_jobs=-1)]: Using backend LokyBackend with 8 concurrent workers.\n",
      "[Parallel(n_jobs=-1)]: Done  25 tasks      | elapsed:   26.8s\n",
      "[Parallel(n_jobs=-1)]: Done 146 tasks      | elapsed:  1.6min\n",
      "[Parallel(n_jobs=-1)]: Done 300 out of 300 | elapsed:  3.2min finished\n",
      "c:\\users\\tunug\\appdata\\local\\programs\\python\\python37\\lib\\site-packages\\sklearn\\model_selection\\_search.py:814: DeprecationWarning: The default of the `iid` parameter will change from True to False in version 0.22 and will be removed in 0.24. This will change numeric results when test-set sizes are unequal.\n",
      "  DeprecationWarning)\n",
      "c:\\users\\tunug\\appdata\\local\\programs\\python\\python37\\lib\\site-packages\\sklearn\\model_selection\\_search.py:715: DataConversionWarning: A column-vector y was passed when a 1d array was expected. Please change the shape of y to (n_samples,), for example using ravel().\n",
      "  self.best_estimator_.fit(X, y, **fit_params)\n"
     ]
    },
    {
     "name": "stdout",
     "output_type": "stream",
     "text": [
      "{'n_estimators': 200, 'max_features': 'sqrt', 'max_depth': 100}\n"
     ]
    }
   ],
   "source": [
    "rfc = RandomForestClassifier()\n",
    "y=y_train['rating']\n",
    "rfc.fit(x_train,y)# predictions\n",
    "rfc_predict = rfc.predict(x_test)\n",
    "from sklearn.model_selection import RandomizedSearchCV\n",
    "n_estimators = [int(x) for x in np.linspace(start = 200, stop = 2000, num = 10)]\n",
    "max_features = ['auto', 'sqrt']\n",
    "max_depth = [int(x) for x in np.linspace(100, 500, num = 11)]\n",
    "max_depth.append(None)# create random grid\n",
    "random_grid = {\n",
    " 'n_estimators': n_estimators,\n",
    " 'max_features': max_features,\n",
    " 'max_depth': max_depth\n",
    " }\n",
    "rfc_random = RandomizedSearchCV(estimator = rfc, param_distributions = random_grid, n_iter = 100, cv = 3, verbose=2, random_state=42, n_jobs = -1)\n",
    "rfc_random.fit(x_train, y_train)\n",
    "print(rfc_random.best_params_)"
   ]
  },
  {
   "cell_type": "code",
   "execution_count": 36,
   "metadata": {},
   "outputs": [
    {
     "name": "stderr",
     "output_type": "stream",
     "text": [
      "c:\\users\\tunug\\appdata\\local\\programs\\python\\python37\\lib\\site-packages\\ipykernel_launcher.py:2: DataConversionWarning: A column-vector y was passed when a 1d array was expected. Please change the shape of y to (n_samples,), for example using ravel().\n",
      "  \n"
     ]
    },
    {
     "name": "stdout",
     "output_type": "stream",
     "text": [
      "=== Confusion Matrix ===\n",
      "[[ 4  0  0]\n",
      " [ 0 12  4]\n",
      " [ 0  4  7]]\n",
      "0.7419354838709677\n"
     ]
    }
   ],
   "source": [
    "rfc = RandomForestClassifier(n_estimators=200, max_features='sqrt',max_depth=100)\n",
    "rfc.fit(x_train,y_train)\n",
    "rfc_predict = rfc.predict(x_test)\n",
    "y=y_test['rating']\n",
    "print(\"=== Confusion Matrix ===\")\n",
    "print(confusion_matrix(y, rfc_predict))\n",
    "#print(rfc_predict)\n",
    "#print(y_test)\n",
    "j=0\n",
    "count=0\n",
    "for i in y:\n",
    "    if i==rfc_predict[j]:\n",
    "        #print(i)\n",
    "        count=count+1\n",
    "    j=j+1\n",
    "#print(count)\n",
    "accuracy=count/len(y)\n",
    "print(accuracy)   \n",
    "#print('\\n')"
   ]
  },
  {
   "cell_type": "code",
   "execution_count": null,
   "metadata": {},
   "outputs": [],
   "source": []
  },
  {
   "cell_type": "code",
   "execution_count": null,
   "metadata": {},
   "outputs": [],
   "source": []
  },
  {
   "cell_type": "code",
   "execution_count": null,
   "metadata": {},
   "outputs": [],
   "source": []
  }
 ],
 "metadata": {
  "kernelspec": {
   "display_name": "Python 3",
   "language": "python",
   "name": "python3"
  },
  "language_info": {
   "codemirror_mode": {
    "name": "ipython",
    "version": 3
   },
   "file_extension": ".py",
   "mimetype": "text/x-python",
   "name": "python",
   "nbconvert_exporter": "python",
   "pygments_lexer": "ipython3",
   "version": "3.7.0"
  }
 },
 "nbformat": 4,
 "nbformat_minor": 2
}
